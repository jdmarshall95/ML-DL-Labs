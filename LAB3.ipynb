{
  "nbformat": 4,
  "nbformat_minor": 0,
  "metadata": {
    "colab": {
      "name": "LAB3.ipynb",
      "provenance": [],
      "include_colab_link": true
    },
    "kernelspec": {
      "name": "python3",
      "display_name": "Python 3"
    },
    "language_info": {
      "name": "python"
    }
  },
  "cells": [
    {
      "cell_type": "markdown",
      "metadata": {
        "id": "view-in-github",
        "colab_type": "text"
      },
      "source": [
        "<a href=\"https://colab.research.google.com/github/jdmarshall95/ML-DL-Labs/blob/main/LAB3.ipynb\" target=\"_parent\"><img src=\"https://colab.research.google.com/assets/colab-badge.svg\" alt=\"Open In Colab\"/></a>"
      ]
    },
    {
      "cell_type": "markdown",
      "metadata": {
        "id": "r2U_3FDZ-pxS"
      },
      "source": [
        "Импортируем бибилиотеки и приводим нашу таблицу к числовым значениям."
      ]
    },
    {
      "cell_type": "code",
      "metadata": {
        "colab": {
          "base_uri": "https://localhost:8080/"
        },
        "id": "RiiurP38T-VU",
        "outputId": "93259053-8459-47f6-e688-ef982f0841ff"
      },
      "source": [
        "import pandas as pd\n",
        "import re\n",
        "from sklearn.linear_model import LogisticRegression\n",
        "from sklearn.model_selection import train_test_split\n",
        "from sklearn.model_selection import KFold, cross_val_score, GridSearchCV\n",
        "from matplotlib import pyplot as plt\n",
        "import numpy as np\n",
        "%matplotlib inline\n",
        "\n",
        "from google.colab import drive\n",
        "drive.mount ('/content/drive')\n",
        "\n",
        "data = pd.read_csv('/content/drive/My Drive/Colab Notebooks/bmw_pricing_challenge.csv', sep=',')\n",
        "data.info()"
      ],
      "execution_count": null,
      "outputs": [
        {
          "output_type": "stream",
          "name": "stdout",
          "text": [
            "Mounted at /content/drive\n",
            "<class 'pandas.core.frame.DataFrame'>\n",
            "RangeIndex: 4843 entries, 0 to 4842\n",
            "Data columns (total 18 columns):\n",
            " #   Column             Non-Null Count  Dtype \n",
            "---  ------             --------------  ----- \n",
            " 0   maker_key          4843 non-null   object\n",
            " 1   model_key          4843 non-null   object\n",
            " 2   mileage            4843 non-null   int64 \n",
            " 3   engine_power       4843 non-null   int64 \n",
            " 4   registration_date  4843 non-null   object\n",
            " 5   fuel               4843 non-null   object\n",
            " 6   paint_color        4843 non-null   object\n",
            " 7   car_type           4843 non-null   object\n",
            " 8   feature_1          4843 non-null   bool  \n",
            " 9   feature_2          4843 non-null   bool  \n",
            " 10  feature_3          4843 non-null   bool  \n",
            " 11  feature_4          4843 non-null   bool  \n",
            " 12  feature_5          4843 non-null   bool  \n",
            " 13  feature_6          4843 non-null   bool  \n",
            " 14  feature_7          4843 non-null   bool  \n",
            " 15  feature_8          4843 non-null   bool  \n",
            " 16  price              4843 non-null   int64 \n",
            " 17  sold_at            4843 non-null   object\n",
            "dtypes: bool(8), int64(3), object(7)\n",
            "memory usage: 416.3+ KB\n"
          ]
        }
      ]
    },
    {
      "cell_type": "markdown",
      "source": [
        "К очистке данных применим тот же подход, что и в прошлый раз."
      ],
      "metadata": {
        "id": "lnyDizMevBxA"
      }
    },
    {
      "cell_type": "code",
      "metadata": {
        "colab": {
          "base_uri": "https://localhost:8080/",
          "height": 206
        },
        "id": "S75_LkqM2fgw",
        "outputId": "efd44a21-76b2-4ccd-91f3-37cb08a6b9a3"
      },
      "source": [
        "data.drop(['maker_key','model_key'],axis=1,inplace=True)\n",
        "data['RegistrationDate'] = [1 if(i>=\"1990-03-01\" and i<\"2000-01-01\") else 2 if(i>=\"2000-01-01\" and i<\"2010-01-01\")\n",
        "                            else 3 for i in data['registration_date']]\n",
        "data['SoldAt'] =[1 if(i==\"2018-01-01\") else 2 if(i==\"2018-02-01\") else 3 if(i==\"2018-03-01\")\n",
        "                 else 4 if(i==\"2018-04-01\") else 5 if(i==\"2018-05-01\") else 6 if(i==\"2018-06-01\")\n",
        "                 else 7 if(i==\"2018-07-01\") else 8 if(i==\"2018-08-01\")\n",
        "                 else 9 if(i==\"2018-09-01\") else 0 for i in data['sold_at']]\n",
        "data['fuel'] = data['fuel'].replace(\"diesel\",1)\n",
        "data['fuel'] = data['fuel'].replace(\"petrol\",2)\n",
        "data['fuel'] = data['fuel'].replace(\"hybrid_petrol\",3)\n",
        "data['fuel'] = data['fuel'].replace(\"electro\",4)\n",
        "data['paint_color'] = data['paint_color'].replace(\"black\",1)\n",
        "data['paint_color'] = data['paint_color'].replace(\"grey\",2)\n",
        "data['paint_color'] = data['paint_color'].replace(\"white\",3)\n",
        "data['paint_color'] = data['paint_color'].replace(\"red\",4)\n",
        "data['paint_color'] = data['paint_color'].replace(\"silver\",5)\n",
        "data['paint_color'] = data['paint_color'].replace(\"blue\",6)\n",
        "data['paint_color'] = data['paint_color'].replace(\"orange\",7)\n",
        "data['paint_color'] = data['paint_color'].replace(\"beige\",8)\n",
        "data['paint_color'] = data['paint_color'].replace(\"brown\",9)\n",
        "data['paint_color'] = data['paint_color'].replace(\"green\",10)\n",
        "data['car_type'].unique()\n",
        "data['car_type'] = data['car_type'].replace(\"convertible\",1)\n",
        "data['car_type'] = data['car_type'].replace(\"coupe\",2)\n",
        "data['car_type'] = data['car_type'].replace(\"estate\",3)\n",
        "data['car_type'] = data['car_type'].replace(\"hatchback\",4)\n",
        "data['car_type'] = data['car_type'].replace(\"sedan\",5)\n",
        "data['car_type'] = data['car_type'].replace(\"subcompact\",6)\n",
        "data['car_type'] = data['car_type'].replace(\"suv\",7)\n",
        "data['car_type'] = data['car_type'].replace(\"van\",8)\n",
        "data['feature_1'] = data['feature_1'].replace(True,1)\n",
        "data['feature_1'] = data['feature_1'].replace(False,0)\n",
        "data['feature_2'] = data['feature_2'].replace(True,1)\n",
        "data['feature_2'] = data['feature_2'].replace(False,0)\n",
        "data['feature_3'] = data['feature_3'].replace(True,1)\n",
        "data['feature_3'] = data['feature_3'].replace(False,0)\n",
        "data['feature_4'] = data['feature_4'].replace(True,1)\n",
        "data['feature_4'] = data['feature_4'].replace(False,0)\n",
        "data['feature_5'] = data['feature_5'].replace(True,1)\n",
        "data['feature_5'] = data['feature_5'].replace(False,0)\n",
        "data['feature_6'] = data['feature_6'].replace(True,1)\n",
        "data['feature_6'] = data['feature_6'].replace(False,0)\n",
        "data['feature_7'] = data['feature_7'].replace(True,1)\n",
        "data['feature_7'] = data['feature_7'].replace(False,0)\n",
        "data['feature_8'] = data['feature_8'].replace(True,1)\n",
        "data['feature_8'] = data['feature_8'].replace(False,0)\n",
        "data.drop(['registration_date','sold_at'],axis=1,inplace=True)\n",
        "data.head()"
      ],
      "execution_count": null,
      "outputs": [
        {
          "output_type": "execute_result",
          "data": {
            "text/html": [
              "\n",
              "  <div id=\"df-252849e1-3686-4a70-a604-6ca3193cd33d\">\n",
              "    <div class=\"colab-df-container\">\n",
              "      <div>\n",
              "<style scoped>\n",
              "    .dataframe tbody tr th:only-of-type {\n",
              "        vertical-align: middle;\n",
              "    }\n",
              "\n",
              "    .dataframe tbody tr th {\n",
              "        vertical-align: top;\n",
              "    }\n",
              "\n",
              "    .dataframe thead th {\n",
              "        text-align: right;\n",
              "    }\n",
              "</style>\n",
              "<table border=\"1\" class=\"dataframe\">\n",
              "  <thead>\n",
              "    <tr style=\"text-align: right;\">\n",
              "      <th></th>\n",
              "      <th>mileage</th>\n",
              "      <th>engine_power</th>\n",
              "      <th>fuel</th>\n",
              "      <th>paint_color</th>\n",
              "      <th>car_type</th>\n",
              "      <th>feature_1</th>\n",
              "      <th>feature_2</th>\n",
              "      <th>feature_3</th>\n",
              "      <th>feature_4</th>\n",
              "      <th>feature_5</th>\n",
              "      <th>feature_6</th>\n",
              "      <th>feature_7</th>\n",
              "      <th>feature_8</th>\n",
              "      <th>price</th>\n",
              "      <th>RegistrationDate</th>\n",
              "      <th>SoldAt</th>\n",
              "    </tr>\n",
              "  </thead>\n",
              "  <tbody>\n",
              "    <tr>\n",
              "      <th>0</th>\n",
              "      <td>140411</td>\n",
              "      <td>100</td>\n",
              "      <td>1</td>\n",
              "      <td>1</td>\n",
              "      <td>1</td>\n",
              "      <td>1.0</td>\n",
              "      <td>1.0</td>\n",
              "      <td>0.0</td>\n",
              "      <td>0.0</td>\n",
              "      <td>1.0</td>\n",
              "      <td>1.0</td>\n",
              "      <td>1.0</td>\n",
              "      <td>0.0</td>\n",
              "      <td>11300</td>\n",
              "      <td>3</td>\n",
              "      <td>1</td>\n",
              "    </tr>\n",
              "    <tr>\n",
              "      <th>1</th>\n",
              "      <td>13929</td>\n",
              "      <td>317</td>\n",
              "      <td>2</td>\n",
              "      <td>2</td>\n",
              "      <td>1</td>\n",
              "      <td>1.0</td>\n",
              "      <td>1.0</td>\n",
              "      <td>0.0</td>\n",
              "      <td>0.0</td>\n",
              "      <td>0.0</td>\n",
              "      <td>1.0</td>\n",
              "      <td>1.0</td>\n",
              "      <td>1.0</td>\n",
              "      <td>69700</td>\n",
              "      <td>3</td>\n",
              "      <td>2</td>\n",
              "    </tr>\n",
              "    <tr>\n",
              "      <th>2</th>\n",
              "      <td>183297</td>\n",
              "      <td>120</td>\n",
              "      <td>1</td>\n",
              "      <td>3</td>\n",
              "      <td>1</td>\n",
              "      <td>0.0</td>\n",
              "      <td>0.0</td>\n",
              "      <td>0.0</td>\n",
              "      <td>0.0</td>\n",
              "      <td>1.0</td>\n",
              "      <td>0.0</td>\n",
              "      <td>1.0</td>\n",
              "      <td>0.0</td>\n",
              "      <td>10200</td>\n",
              "      <td>3</td>\n",
              "      <td>2</td>\n",
              "    </tr>\n",
              "    <tr>\n",
              "      <th>3</th>\n",
              "      <td>128035</td>\n",
              "      <td>135</td>\n",
              "      <td>1</td>\n",
              "      <td>4</td>\n",
              "      <td>1</td>\n",
              "      <td>1.0</td>\n",
              "      <td>1.0</td>\n",
              "      <td>0.0</td>\n",
              "      <td>0.0</td>\n",
              "      <td>1.0</td>\n",
              "      <td>1.0</td>\n",
              "      <td>1.0</td>\n",
              "      <td>1.0</td>\n",
              "      <td>25100</td>\n",
              "      <td>3</td>\n",
              "      <td>2</td>\n",
              "    </tr>\n",
              "    <tr>\n",
              "      <th>4</th>\n",
              "      <td>97097</td>\n",
              "      <td>160</td>\n",
              "      <td>1</td>\n",
              "      <td>5</td>\n",
              "      <td>1</td>\n",
              "      <td>1.0</td>\n",
              "      <td>1.0</td>\n",
              "      <td>0.0</td>\n",
              "      <td>0.0</td>\n",
              "      <td>0.0</td>\n",
              "      <td>1.0</td>\n",
              "      <td>1.0</td>\n",
              "      <td>1.0</td>\n",
              "      <td>33400</td>\n",
              "      <td>3</td>\n",
              "      <td>4</td>\n",
              "    </tr>\n",
              "  </tbody>\n",
              "</table>\n",
              "</div>\n",
              "      <button class=\"colab-df-convert\" onclick=\"convertToInteractive('df-252849e1-3686-4a70-a604-6ca3193cd33d')\"\n",
              "              title=\"Convert this dataframe to an interactive table.\"\n",
              "              style=\"display:none;\">\n",
              "        \n",
              "  <svg xmlns=\"http://www.w3.org/2000/svg\" height=\"24px\"viewBox=\"0 0 24 24\"\n",
              "       width=\"24px\">\n",
              "    <path d=\"M0 0h24v24H0V0z\" fill=\"none\"/>\n",
              "    <path d=\"M18.56 5.44l.94 2.06.94-2.06 2.06-.94-2.06-.94-.94-2.06-.94 2.06-2.06.94zm-11 1L8.5 8.5l.94-2.06 2.06-.94-2.06-.94L8.5 2.5l-.94 2.06-2.06.94zm10 10l.94 2.06.94-2.06 2.06-.94-2.06-.94-.94-2.06-.94 2.06-2.06.94z\"/><path d=\"M17.41 7.96l-1.37-1.37c-.4-.4-.92-.59-1.43-.59-.52 0-1.04.2-1.43.59L10.3 9.45l-7.72 7.72c-.78.78-.78 2.05 0 2.83L4 21.41c.39.39.9.59 1.41.59.51 0 1.02-.2 1.41-.59l7.78-7.78 2.81-2.81c.8-.78.8-2.07 0-2.86zM5.41 20L4 18.59l7.72-7.72 1.47 1.35L5.41 20z\"/>\n",
              "  </svg>\n",
              "      </button>\n",
              "      \n",
              "  <style>\n",
              "    .colab-df-container {\n",
              "      display:flex;\n",
              "      flex-wrap:wrap;\n",
              "      gap: 12px;\n",
              "    }\n",
              "\n",
              "    .colab-df-convert {\n",
              "      background-color: #E8F0FE;\n",
              "      border: none;\n",
              "      border-radius: 50%;\n",
              "      cursor: pointer;\n",
              "      display: none;\n",
              "      fill: #1967D2;\n",
              "      height: 32px;\n",
              "      padding: 0 0 0 0;\n",
              "      width: 32px;\n",
              "    }\n",
              "\n",
              "    .colab-df-convert:hover {\n",
              "      background-color: #E2EBFA;\n",
              "      box-shadow: 0px 1px 2px rgba(60, 64, 67, 0.3), 0px 1px 3px 1px rgba(60, 64, 67, 0.15);\n",
              "      fill: #174EA6;\n",
              "    }\n",
              "\n",
              "    [theme=dark] .colab-df-convert {\n",
              "      background-color: #3B4455;\n",
              "      fill: #D2E3FC;\n",
              "    }\n",
              "\n",
              "    [theme=dark] .colab-df-convert:hover {\n",
              "      background-color: #434B5C;\n",
              "      box-shadow: 0px 1px 3px 1px rgba(0, 0, 0, 0.15);\n",
              "      filter: drop-shadow(0px 1px 2px rgba(0, 0, 0, 0.3));\n",
              "      fill: #FFFFFF;\n",
              "    }\n",
              "  </style>\n",
              "\n",
              "      <script>\n",
              "        const buttonEl =\n",
              "          document.querySelector('#df-252849e1-3686-4a70-a604-6ca3193cd33d button.colab-df-convert');\n",
              "        buttonEl.style.display =\n",
              "          google.colab.kernel.accessAllowed ? 'block' : 'none';\n",
              "\n",
              "        async function convertToInteractive(key) {\n",
              "          const element = document.querySelector('#df-252849e1-3686-4a70-a604-6ca3193cd33d');\n",
              "          const dataTable =\n",
              "            await google.colab.kernel.invokeFunction('convertToInteractive',\n",
              "                                                     [key], {});\n",
              "          if (!dataTable) return;\n",
              "\n",
              "          const docLinkHtml = 'Like what you see? Visit the ' +\n",
              "            '<a target=\"_blank\" href=https://colab.research.google.com/notebooks/data_table.ipynb>data table notebook</a>'\n",
              "            + ' to learn more about interactive tables.';\n",
              "          element.innerHTML = '';\n",
              "          dataTable['output_type'] = 'display_data';\n",
              "          await google.colab.output.renderOutput(dataTable, element);\n",
              "          const docLink = document.createElement('div');\n",
              "          docLink.innerHTML = docLinkHtml;\n",
              "          element.appendChild(docLink);\n",
              "        }\n",
              "      </script>\n",
              "    </div>\n",
              "  </div>\n",
              "  "
            ],
            "text/plain": [
              "   mileage  engine_power  fuel  ...  price  RegistrationDate  SoldAt\n",
              "0   140411           100     1  ...  11300                 3       1\n",
              "1    13929           317     2  ...  69700                 3       2\n",
              "2   183297           120     1  ...  10200                 3       2\n",
              "3   128035           135     1  ...  25100                 3       2\n",
              "4    97097           160     1  ...  33400                 3       4\n",
              "\n",
              "[5 rows x 16 columns]"
            ]
          },
          "metadata": {},
          "execution_count": 2
        }
      ]
    },
    {
      "cell_type": "markdown",
      "metadata": {
        "id": "PlTQv2Ei3kLN"
      },
      "source": [
        "Определим X (features)  и Y (labels). Y (labels)  - наш целевой параметр, X (features) - все остальное.\n"
      ]
    },
    {
      "cell_type": "code",
      "source": [
        "labels = data[['feature_1']]\n",
        "print(\"Check labels:\", labels.head(3))\n",
        "features = data.drop(['feature_1'], axis=1)\n",
        "print(\"Check features:\", features.head(3))"
      ],
      "metadata": {
        "colab": {
          "base_uri": "https://localhost:8080/"
        },
        "id": "XDXbLcaQyLF5",
        "outputId": "2581f587-76b2-4662-ffbe-58e80bac7094"
      },
      "execution_count": null,
      "outputs": [
        {
          "output_type": "stream",
          "name": "stdout",
          "text": [
            "Check labels:    feature_1\n",
            "0        1.0\n",
            "1        1.0\n",
            "2        0.0\n",
            "Check features:    mileage  engine_power  fuel  ...  price  RegistrationDate  SoldAt\n",
            "0   140411           100     1  ...  11300                 3       1\n",
            "1    13929           317     2  ...  69700                 3       2\n",
            "2   183297           120     1  ...  10200                 3       2\n",
            "\n",
            "[3 rows x 15 columns]\n"
          ]
        }
      ]
    },
    {
      "cell_type": "markdown",
      "metadata": {
        "id": "vssvVe1N_XGT"
      },
      "source": [
        "Определим тестовые и тренировочные выборки."
      ]
    },
    {
      "cell_type": "code",
      "metadata": {
        "id": "jvYOVluw_dw3"
      },
      "source": [
        "X_train, X_test, y_train, y_test = train_test_split(features, labels, stratify=labels)"
      ],
      "execution_count": null,
      "outputs": []
    },
    {
      "cell_type": "code",
      "source": [
        "from sklearn.linear_model import LogisticRegression\n",
        "model = LogisticRegression(\n",
        "    # метод для поиска решения. Для небольших датасетов лучше подходит liblinear, sag и saga -- для больших.\n",
        "    # Варианты: newton-cg, lbfgs, liblinear, sag, saga\n",
        "    solver='liblinear',\n",
        "    # норма для регуляризации. Варианты: l2, l1.\n",
        "    penalty='l1',\n",
        "    # параметр регуляризации. Чем меньше, тем сильнее регуляризация. Положительный.\n",
        "    C=1e4,\n",
        "    # параметр для остановки поиска решения.(прекращается процесс обучения когда приближаемся к локальному минимому равному переменной tol)\n",
        "    tol=1e-4,\n",
        "    )"
      ],
      "metadata": {
        "id": "d4xNcSsaUVQs"
      },
      "execution_count": null,
      "outputs": []
    },
    {
      "cell_type": "code",
      "source": [
        "model.fit(features, labels)"
      ],
      "metadata": {
        "colab": {
          "base_uri": "https://localhost:8080/"
        },
        "id": "PK32Mbt2UmYl",
        "outputId": "c2aa97a6-9158-43c4-eab6-398bbe108394"
      },
      "execution_count": null,
      "outputs": [
        {
          "output_type": "stream",
          "name": "stderr",
          "text": [
            "/usr/local/lib/python3.7/dist-packages/sklearn/utils/validation.py:985: DataConversionWarning: A column-vector y was passed when a 1d array was expected. Please change the shape of y to (n_samples, ), for example using ravel().\n",
            "  y = column_or_1d(y, warn=True)\n"
          ]
        },
        {
          "output_type": "execute_result",
          "data": {
            "text/plain": [
              "LogisticRegression(C=10000.0, penalty='l1', solver='liblinear')"
            ]
          },
          "metadata": {},
          "execution_count": 6
        }
      ]
    },
    {
      "cell_type": "code",
      "source": [
        "predictions = model.predict(features)"
      ],
      "metadata": {
        "id": "liT11UjvUvRB"
      },
      "execution_count": null,
      "outputs": []
    },
    {
      "cell_type": "code",
      "source": [
        "#Матрица ошибок\n",
        "from sklearn import metrics\n",
        "conf_mat = metrics.confusion_matrix(labels, predictions)\n",
        "conf_mat = pd.DataFrame(conf_mat, index=model.classes_, columns=model.classes_)\n",
        "conf_mat"
      ],
      "metadata": {
        "colab": {
          "base_uri": "https://localhost:8080/",
          "height": 112
        },
        "id": "WsyZl3gAU1Ch",
        "outputId": "4baf1091-ddb2-4d86-e54e-5bddaf68fc7d"
      },
      "execution_count": null,
      "outputs": [
        {
          "output_type": "execute_result",
          "data": {
            "text/html": [
              "\n",
              "  <div id=\"df-56aa5aa2-f0e8-4331-a0a9-d800c2aa4e99\">\n",
              "    <div class=\"colab-df-container\">\n",
              "      <div>\n",
              "<style scoped>\n",
              "    .dataframe tbody tr th:only-of-type {\n",
              "        vertical-align: middle;\n",
              "    }\n",
              "\n",
              "    .dataframe tbody tr th {\n",
              "        vertical-align: top;\n",
              "    }\n",
              "\n",
              "    .dataframe thead th {\n",
              "        text-align: right;\n",
              "    }\n",
              "</style>\n",
              "<table border=\"1\" class=\"dataframe\">\n",
              "  <thead>\n",
              "    <tr style=\"text-align: right;\">\n",
              "      <th></th>\n",
              "      <th>0.0</th>\n",
              "      <th>1.0</th>\n",
              "    </tr>\n",
              "  </thead>\n",
              "  <tbody>\n",
              "    <tr>\n",
              "      <th>0.0</th>\n",
              "      <td>1422</td>\n",
              "      <td>759</td>\n",
              "    </tr>\n",
              "    <tr>\n",
              "      <th>1.0</th>\n",
              "      <td>601</td>\n",
              "      <td>2061</td>\n",
              "    </tr>\n",
              "  </tbody>\n",
              "</table>\n",
              "</div>\n",
              "      <button class=\"colab-df-convert\" onclick=\"convertToInteractive('df-56aa5aa2-f0e8-4331-a0a9-d800c2aa4e99')\"\n",
              "              title=\"Convert this dataframe to an interactive table.\"\n",
              "              style=\"display:none;\">\n",
              "        \n",
              "  <svg xmlns=\"http://www.w3.org/2000/svg\" height=\"24px\"viewBox=\"0 0 24 24\"\n",
              "       width=\"24px\">\n",
              "    <path d=\"M0 0h24v24H0V0z\" fill=\"none\"/>\n",
              "    <path d=\"M18.56 5.44l.94 2.06.94-2.06 2.06-.94-2.06-.94-.94-2.06-.94 2.06-2.06.94zm-11 1L8.5 8.5l.94-2.06 2.06-.94-2.06-.94L8.5 2.5l-.94 2.06-2.06.94zm10 10l.94 2.06.94-2.06 2.06-.94-2.06-.94-.94-2.06-.94 2.06-2.06.94z\"/><path d=\"M17.41 7.96l-1.37-1.37c-.4-.4-.92-.59-1.43-.59-.52 0-1.04.2-1.43.59L10.3 9.45l-7.72 7.72c-.78.78-.78 2.05 0 2.83L4 21.41c.39.39.9.59 1.41.59.51 0 1.02-.2 1.41-.59l7.78-7.78 2.81-2.81c.8-.78.8-2.07 0-2.86zM5.41 20L4 18.59l7.72-7.72 1.47 1.35L5.41 20z\"/>\n",
              "  </svg>\n",
              "      </button>\n",
              "      \n",
              "  <style>\n",
              "    .colab-df-container {\n",
              "      display:flex;\n",
              "      flex-wrap:wrap;\n",
              "      gap: 12px;\n",
              "    }\n",
              "\n",
              "    .colab-df-convert {\n",
              "      background-color: #E8F0FE;\n",
              "      border: none;\n",
              "      border-radius: 50%;\n",
              "      cursor: pointer;\n",
              "      display: none;\n",
              "      fill: #1967D2;\n",
              "      height: 32px;\n",
              "      padding: 0 0 0 0;\n",
              "      width: 32px;\n",
              "    }\n",
              "\n",
              "    .colab-df-convert:hover {\n",
              "      background-color: #E2EBFA;\n",
              "      box-shadow: 0px 1px 2px rgba(60, 64, 67, 0.3), 0px 1px 3px 1px rgba(60, 64, 67, 0.15);\n",
              "      fill: #174EA6;\n",
              "    }\n",
              "\n",
              "    [theme=dark] .colab-df-convert {\n",
              "      background-color: #3B4455;\n",
              "      fill: #D2E3FC;\n",
              "    }\n",
              "\n",
              "    [theme=dark] .colab-df-convert:hover {\n",
              "      background-color: #434B5C;\n",
              "      box-shadow: 0px 1px 3px 1px rgba(0, 0, 0, 0.15);\n",
              "      filter: drop-shadow(0px 1px 2px rgba(0, 0, 0, 0.3));\n",
              "      fill: #FFFFFF;\n",
              "    }\n",
              "  </style>\n",
              "\n",
              "      <script>\n",
              "        const buttonEl =\n",
              "          document.querySelector('#df-56aa5aa2-f0e8-4331-a0a9-d800c2aa4e99 button.colab-df-convert');\n",
              "        buttonEl.style.display =\n",
              "          google.colab.kernel.accessAllowed ? 'block' : 'none';\n",
              "\n",
              "        async function convertToInteractive(key) {\n",
              "          const element = document.querySelector('#df-56aa5aa2-f0e8-4331-a0a9-d800c2aa4e99');\n",
              "          const dataTable =\n",
              "            await google.colab.kernel.invokeFunction('convertToInteractive',\n",
              "                                                     [key], {});\n",
              "          if (!dataTable) return;\n",
              "\n",
              "          const docLinkHtml = 'Like what you see? Visit the ' +\n",
              "            '<a target=\"_blank\" href=https://colab.research.google.com/notebooks/data_table.ipynb>data table notebook</a>'\n",
              "            + ' to learn more about interactive tables.';\n",
              "          element.innerHTML = '';\n",
              "          dataTable['output_type'] = 'display_data';\n",
              "          await google.colab.output.renderOutput(dataTable, element);\n",
              "          const docLink = document.createElement('div');\n",
              "          docLink.innerHTML = docLinkHtml;\n",
              "          element.appendChild(docLink);\n",
              "        }\n",
              "      </script>\n",
              "    </div>\n",
              "  </div>\n",
              "  "
            ],
            "text/plain": [
              "      0.0   1.0\n",
              "0.0  1422   759\n",
              "1.0   601  2061"
            ]
          },
          "metadata": {},
          "execution_count": 8
        }
      ]
    },
    {
      "cell_type": "code",
      "source": [
        "pred_prob = model.predict_proba(features)"
      ],
      "metadata": {
        "id": "xkgJyDkLVGc-"
      },
      "execution_count": null,
      "outputs": []
    },
    {
      "cell_type": "code",
      "source": [
        "predictions = pred_prob[:,1]\n",
        "fpr, tpr, threshold = metrics.roc_curve(labels, predictions)\n",
        "roc_auc = metrics.auc(fpr, tpr)"
      ],
      "metadata": {
        "id": "6__my6TIVOHQ"
      },
      "execution_count": null,
      "outputs": []
    },
    {
      "cell_type": "code",
      "source": [
        "import matplotlib.pyplot as plt\n",
        "plt.title('Receiver Operating Characteristic')\n",
        "plt.plot(fpr, tpr, 'b', label = 'AUC = %0.2f' % roc_auc)\n",
        "plt.legend(loc = 'lower right')\n",
        "plt.plot([0, 1], [0, 1],'r--')\n",
        "plt.xlim([0, 1])\n",
        "plt.ylim([0, 1])\n",
        "plt.ylabel('True Positive Rate')\n",
        "plt.xlabel('False Positive Rate')\n",
        "plt.show()"
      ],
      "metadata": {
        "colab": {
          "base_uri": "https://localhost:8080/",
          "height": 295
        },
        "id": "yIPFO3TWWAri",
        "outputId": "31b14cd6-3663-481e-d781-d8335d5055e4"
      },
      "execution_count": null,
      "outputs": [
        {
          "output_type": "display_data",
          "data": {
            "image/png": "[encoded data removed]",
            "text/plain": [
              "<Figure size 432x288 with 1 Axes>"
            ]
          },
          "metadata": {
            "needs_background": "light"
          }
        }
      ]
    },
    {
      "cell_type": "code",
      "source": [
        "model.coef_"
      ],
      "metadata": {
        "colab": {
          "base_uri": "https://localhost:8080/"
        },
        "id": "ZOYjhOGnWNH5",
        "outputId": "44fb86c3-6b63-443e-b035-16cde6bb805e"
      },
      "execution_count": null,
      "outputs": [
        {
          "output_type": "execute_result",
          "data": {
            "text/plain": [
              "array([[ 2.95946985e-06,  8.95923699e-03, -1.71271993e-01,\n",
              "         4.13534497e-02, -4.98064059e-03,  9.92263024e-01,\n",
              "         8.42237895e-01,  1.11328251e-01,  3.60644081e-01,\n",
              "        -2.77144337e-02,  1.98131071e+00,  5.45723902e-02,\n",
              "         6.90995808e-05, -1.30101492e+00,  8.55429881e-02]])"
            ]
          },
          "metadata": {},
          "execution_count": 12
        }
      ]
    },
    {
      "cell_type": "code",
      "source": [
        "col = [i for i in range(len(model.coef_[0]))]\n",
        "listValues = model.coef_[0]\n",
        "myDict = {col[i]:listValues[i] for i in range(0, len(col), 1)} \n",
        "for key in myDict:\n",
        "    print(key, '->', myDict[key])"
      ],
      "metadata": {
        "colab": {
          "base_uri": "https://localhost:8080/"
        },
        "id": "z3A50644WR9Q",
        "outputId": "a4e1a814-5e3a-4c5b-b733-6ef1a8ecfced"
      },
      "execution_count": null,
      "outputs": [
        {
          "output_type": "stream",
          "name": "stdout",
          "text": [
            "0 -> 2.9998333118928327e-06\n",
            "1 -> 0.009128015937607422\n",
            "2 -> -0.1545458771912919\n",
            "3 -> 0.041932557222863744\n",
            "4 -> -0.0023689807969446944\n",
            "5 -> 1.0019759085167388\n",
            "6 -> 0.8407025274117992\n",
            "7 -> 0.09779929107092789\n",
            "8 -> 0.3585662056895311\n",
            "9 -> -0.030556579420639298\n",
            "10 -> 2.057036988232341\n",
            "11 -> 0.051482039597962555\n",
            "12 -> 7.042357988801125e-05\n",
            "13 -> -1.334671333638536\n",
            "14 -> 0.08671268441680285\n"
          ]
        }
      ]
    },
    {
      "cell_type": "code",
      "source": [
        "# если значения признака меньше 0.01 удалим его (считаем их близкими к нулю)\n",
        "key_new = list()\n",
        "for key in myDict:\n",
        "    if myDict[key] < 0.01:\n",
        "        key_new.append(key)\n",
        "print(key_new) # номера столбцов которые мы будем удалять для метода ближайших соседей"
      ],
      "metadata": {
        "colab": {
          "base_uri": "https://localhost:8080/"
        },
        "id": "Mk7xCqz6WqtP",
        "outputId": "90e2704c-f310-4a5a-9db8-c02c381b83ff"
      },
      "execution_count": null,
      "outputs": [
        {
          "output_type": "stream",
          "name": "stdout",
          "text": [
            "[0, 1, 2, 4, 9, 12, 13]\n"
          ]
        }
      ]
    },
    {
      "cell_type": "code",
      "source": [
        "data = pd.read_csv('/content/drive/My Drive/Colab Notebooks/bmw_pricing_challenge.csv', sep=',')\n",
        "data['RegistrationDate'] = [1 if(i>=\"1990-03-01\" and i<\"2000-01-01\") else 2 if(i>=\"2000-01-01\" and i<\"2010-01-01\")\n",
        "                            else 3 for i in data['registration_date']]\n",
        "data['SoldAt'] =[1 if(i==\"2018-01-01\") else 2 if(i==\"2018-02-01\") else 3 if(i==\"2018-03-01\")\n",
        "                 else 4 if(i==\"2018-04-01\") else 5 if(i==\"2018-05-01\") else 6 if(i==\"2018-06-01\")\n",
        "                 else 7 if(i==\"2018-07-01\") else 8 if(i==\"2018-08-01\")\n",
        "                 else 9 if(i==\"2018-09-01\") else 0 for i in data['sold_at']]\n",
        "data['fuel'] = data['fuel'].replace(\"diesel\",1)\n",
        "data['fuel'] = data['fuel'].replace(\"petrol\",2)\n",
        "data['fuel'] = data['fuel'].replace(\"hybrid_petrol\",3)\n",
        "data['fuel'] = data['fuel'].replace(\"electro\",4)\n",
        "data['paint_color'] = data['paint_color'].replace(\"black\",1)\n",
        "data['paint_color'] = data['paint_color'].replace(\"grey\",2)\n",
        "data['paint_color'] = data['paint_color'].replace(\"white\",3)\n",
        "data['paint_color'] = data['paint_color'].replace(\"red\",4)\n",
        "data['paint_color'] = data['paint_color'].replace(\"silver\",5)\n",
        "data['paint_color'] = data['paint_color'].replace(\"blue\",6)\n",
        "data['paint_color'] = data['paint_color'].replace(\"orange\",7)\n",
        "data['paint_color'] = data['paint_color'].replace(\"beige\",8)\n",
        "data['paint_color'] = data['paint_color'].replace(\"brown\",9)\n",
        "data['paint_color'] = data['paint_color'].replace(\"green\",10)\n",
        "data['car_type'].unique()\n",
        "data['car_type'] = data['car_type'].replace(\"convertible\",1)\n",
        "data['car_type'] = data['car_type'].replace(\"coupe\",2)\n",
        "data['car_type'] = data['car_type'].replace(\"estate\",3)\n",
        "data['car_type'] = data['car_type'].replace(\"hatchback\",4)\n",
        "data['car_type'] = data['car_type'].replace(\"sedan\",5)\n",
        "data['car_type'] = data['car_type'].replace(\"subcompact\",6)\n",
        "data['car_type'] = data['car_type'].replace(\"suv\",7)\n",
        "data['car_type'] = data['car_type'].replace(\"van\",8)\n",
        "data['feature_1'] = data['feature_1'].replace(True,1)\n",
        "data['feature_1'] = data['feature_1'].replace(False,0)\n",
        "data['feature_2'] = data['feature_2'].replace(True,1)\n",
        "data['feature_2'] = data['feature_2'].replace(False,0)\n",
        "data['feature_3'] = data['feature_3'].replace(True,1)\n",
        "data['feature_3'] = data['feature_3'].replace(False,0)\n",
        "data['feature_4'] = data['feature_4'].replace(True,1)\n",
        "data['feature_4'] = data['feature_4'].replace(False,0)\n",
        "data['feature_5'] = data['feature_5'].replace(True,1)\n",
        "data['feature_5'] = data['feature_5'].replace(False,0)\n",
        "data['feature_6'] = data['feature_6'].replace(True,1)\n",
        "data['feature_6'] = data['feature_6'].replace(False,0)\n",
        "data['feature_7'] = data['feature_7'].replace(True,1)\n",
        "data['feature_7'] = data['feature_7'].replace(False,0)\n",
        "data['feature_8'] = data['feature_8'].replace(True,1)\n",
        "data['feature_8'] = data['feature_8'].replace(False,0)\n",
        "data.drop(['registration_date','sold_at'],axis=1,inplace=True)\n",
        "data.info()"
      ],
      "metadata": {
        "colab": {
          "base_uri": "https://localhost:8080/"
        },
        "id": "7j-TDZFi0ZHY",
        "outputId": "269e825b-9dfe-4c53-911c-0e4f6c8e95af"
      },
      "execution_count": null,
      "outputs": [
        {
          "output_type": "stream",
          "name": "stdout",
          "text": [
            "<class 'pandas.core.frame.DataFrame'>\n",
            "RangeIndex: 4843 entries, 0 to 4842\n",
            "Data columns (total 18 columns):\n",
            " #   Column            Non-Null Count  Dtype  \n",
            "---  ------            --------------  -----  \n",
            " 0   maker_key         4843 non-null   object \n",
            " 1   model_key         4843 non-null   object \n",
            " 2   mileage           4843 non-null   int64  \n",
            " 3   engine_power      4843 non-null   int64  \n",
            " 4   fuel              4843 non-null   int64  \n",
            " 5   paint_color       4843 non-null   int64  \n",
            " 6   car_type          4843 non-null   int64  \n",
            " 7   feature_1         4843 non-null   float64\n",
            " 8   feature_2         4843 non-null   float64\n",
            " 9   feature_3         4843 non-null   float64\n",
            " 10  feature_4         4843 non-null   float64\n",
            " 11  feature_5         4843 non-null   float64\n",
            " 12  feature_6         4843 non-null   float64\n",
            " 13  feature_7         4843 non-null   float64\n",
            " 14  feature_8         4843 non-null   float64\n",
            " 15  price             4843 non-null   int64  \n",
            " 16  RegistrationDate  4843 non-null   int64  \n",
            " 17  SoldAt            4843 non-null   int64  \n",
            "dtypes: float64(8), int64(8), object(2)\n",
            "memory usage: 681.2+ KB\n"
          ]
        }
      ]
    },
    {
      "cell_type": "code",
      "source": [
        "c = data.columns\n",
        "for i in key_new:\n",
        "  data.drop([c[i]], axis = 1, inplace = True)"
      ],
      "metadata": {
        "id": "9A8PnsEkW4nE"
      },
      "execution_count": null,
      "outputs": []
    },
    {
      "cell_type": "code",
      "source": [
        "data.info()"
      ],
      "metadata": {
        "colab": {
          "base_uri": "https://localhost:8080/"
        },
        "id": "z5tpxnomXPoG",
        "outputId": "8fc1d785-1b64-41e7-e704-bebce483f146"
      },
      "execution_count": null,
      "outputs": [
        {
          "output_type": "stream",
          "name": "stdout",
          "text": [
            "<class 'pandas.core.frame.DataFrame'>\n",
            "RangeIndex: 4843 entries, 0 to 4842\n",
            "Data columns (total 11 columns):\n",
            " #   Column            Non-Null Count  Dtype  \n",
            "---  ------            --------------  -----  \n",
            " 0   engine_power      4843 non-null   int64  \n",
            " 1   paint_color       4843 non-null   int64  \n",
            " 2   car_type          4843 non-null   int64  \n",
            " 3   feature_1         4843 non-null   float64\n",
            " 4   feature_2         4843 non-null   float64\n",
            " 5   feature_4         4843 non-null   float64\n",
            " 6   feature_5         4843 non-null   float64\n",
            " 7   feature_8         4843 non-null   float64\n",
            " 8   price             4843 non-null   int64  \n",
            " 9   RegistrationDate  4843 non-null   int64  \n",
            " 10  SoldAt            4843 non-null   int64  \n",
            "dtypes: float64(5), int64(6)\n",
            "memory usage: 416.3 KB\n"
          ]
        }
      ]
    },
    {
      "cell_type": "code",
      "source": [
        "y = data['feature_1'] # целевая переменная\n",
        "X = data.drop('feature_1', axis = 1) # признаки\n",
        "X.shape"
      ],
      "metadata": {
        "colab": {
          "base_uri": "https://localhost:8080/"
        },
        "id": "w4dX6DuEz2X3",
        "outputId": "8684e7b0-ddb0-4e27-b48a-eb5d3b7017fc"
      },
      "execution_count": null,
      "outputs": [
        {
          "output_type": "execute_result",
          "data": {
            "text/plain": [
              "(4843, 10)"
            ]
          },
          "metadata": {},
          "execution_count": 55
        }
      ]
    },
    {
      "cell_type": "code",
      "source": [
        "X_train, X_test, y_train, y_test = train_test_split(X, y)"
      ],
      "metadata": {
        "id": "2iAr2eVe7LN2"
      },
      "execution_count": null,
      "outputs": []
    },
    {
      "cell_type": "code",
      "source": [
        "# импортируем класс классификатора по ближайшим соседям\n",
        "from sklearn.neighbors import KNeighborsClassifier\n",
        "\n",
        "# создадим наш классификатор\n",
        "clf = KNeighborsClassifier(n_neighbors=3)\n",
        "# обучим классификатор на тренировочной выборке\n",
        "clf.fit(X_train, y_train)\n",
        "# подсчитаем долю верных ответов алгоритма на тестовой выборке.\n",
        "clf.score(X_test, y_test)"
      ],
      "metadata": {
        "colab": {
          "base_uri": "https://localhost:8080/"
        },
        "id": "sjPEB4Tw7NSp",
        "outputId": "fdd87d98-6d21-42f5-f316-2daa1903ccde"
      },
      "execution_count": null,
      "outputs": [
        {
          "output_type": "execute_result",
          "data": {
            "text/plain": [
              "0.6143682906688687"
            ]
          },
          "metadata": {},
          "execution_count": 57
        }
      ]
    }
  ]
}