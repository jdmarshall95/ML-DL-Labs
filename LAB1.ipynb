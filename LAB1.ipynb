{
  "nbformat": 4,
  "nbformat_minor": 0,
  "metadata": {
    "colab": {
      "name": "LAB1.ipynb",
      "provenance": [],
      "include_colab_link": true
    },
    "kernelspec": {
      "name": "python3",
      "display_name": "Python 3"
    },
    "language_info": {
      "name": "python"
    }
  },
  "cells": [
    {
      "cell_type": "markdown",
      "metadata": {
        "id": "view-in-github",
        "colab_type": "text"
      },
      "source": [
        "<a href=\"https://colab.research.google.com/github/jdmarshall95/ML-DL-Labs/blob/main/LAB1.ipynb\" target=\"_parent\"><img src=\"https://colab.research.google.com/assets/colab-badge.svg\" alt=\"Open In Colab\"/></a>"
      ]
    },
    {
      "cell_type": "markdown",
      "metadata": {
        "id": "qL-K_rov9318"
      },
      "source": [
        "# Метод ближайших соседей\n",
        "\n",
        "Для начала подключим библиотеки, которые нам понадобятся.\n",
        "\n"
      ]
    },
    {
      "cell_type": "code",
      "metadata": {
        "id": "dtktXWwG931_",
        "colab": {
          "base_uri": "https://localhost:8080/"
        },
        "outputId": "d294de9c-86f0-42aa-89d8-26503d4b455e"
      },
      "source": [
        "import pandas as pd\n",
        "import numpy as np\n",
        "import matplotlib.pyplot as plt\n",
        "%matplotlib inline\n",
        "\n",
        "import seaborn as sns\n",
        "import matplotlib.pyplot as plt\n",
        "\n",
        "#predict library\n",
        "from sklearn.model_selection import GridSearchCV\n",
        "from sklearn.ensemble import GradientBoostingRegressor,RandomForestRegressor\n",
        "from sklearn.metrics import confusion_matrix\n",
        "from sklearn.tree import DecisionTreeRegressor\n",
        "from sklearn.model_selection import train_test_split \n",
        "\n",
        "from google.colab import drive\n",
        "drive.mount('/content/drive')"
      ],
      "execution_count": null,
      "outputs": [
        {
          "output_type": "stream",
          "name": "stdout",
          "text": [
            "Drive already mounted at /content/drive; to attempt to forcibly remount, call drive.mount(\"/content/drive\", force_remount=True).\n"
          ]
        }
      ]
    },
    {
      "cell_type": "markdown",
      "metadata": {
        "id": "XhASBvhvXfiG"
      },
      "source": [
        "Загружаем наши данные"
      ]
    },
    {
      "cell_type": "code",
      "metadata": {
        "colab": {
          "base_uri": "https://localhost:8080/",
          "height": 206
        },
        "id": "QAmPeTriq6V2",
        "outputId": "5aeda1ce-0af4-4f8f-8881-d5e2622506f4"
      },
      "source": [
        "data = pd.read_csv('/content/drive/My Drive/Colab Notebooks/bmw_pricing_challenge.csv', sep=',')\n",
        "price = data['price']\n",
        "m_key = data['model_key']\n",
        "data.head()"
      ],
      "execution_count": null,
      "outputs": [
        {
          "output_type": "execute_result",
          "data": {
            "text/html": [
              "\n",
              "  <div id=\"df-fe610b2e-6044-47cf-a9e3-30edf6ab6bec\">\n",
              "    <div class=\"colab-df-container\">\n",
              "      <div>\n",
              "<style scoped>\n",
              "    .dataframe tbody tr th:only-of-type {\n",
              "        vertical-align: middle;\n",
              "    }\n",
              "\n",
              "    .dataframe tbody tr th {\n",
              "        vertical-align: top;\n",
              "    }\n",
              "\n",
              "    .dataframe thead th {\n",
              "        text-align: right;\n",
              "    }\n",
              "</style>\n",
              "<table border=\"1\" class=\"dataframe\">\n",
              "  <thead>\n",
              "    <tr style=\"text-align: right;\">\n",
              "      <th></th>\n",
              "      <th>maker_key</th>\n",
              "      <th>model_key</th>\n",
              "      <th>mileage</th>\n",
              "      <th>engine_power</th>\n",
              "      <th>registration_date</th>\n",
              "      <th>fuel</th>\n",
              "      <th>paint_color</th>\n",
              "      <th>car_type</th>\n",
              "      <th>feature_1</th>\n",
              "      <th>feature_2</th>\n",
              "      <th>feature_3</th>\n",
              "      <th>feature_4</th>\n",
              "      <th>feature_5</th>\n",
              "      <th>feature_6</th>\n",
              "      <th>feature_7</th>\n",
              "      <th>feature_8</th>\n",
              "      <th>price</th>\n",
              "      <th>sold_at</th>\n",
              "    </tr>\n",
              "  </thead>\n",
              "  <tbody>\n",
              "    <tr>\n",
              "      <th>0</th>\n",
              "      <td>BMW</td>\n",
              "      <td>118</td>\n",
              "      <td>140411</td>\n",
              "      <td>100</td>\n",
              "      <td>2012-02-01</td>\n",
              "      <td>diesel</td>\n",
              "      <td>black</td>\n",
              "      <td>convertible</td>\n",
              "      <td>True</td>\n",
              "      <td>True</td>\n",
              "      <td>False</td>\n",
              "      <td>False</td>\n",
              "      <td>True</td>\n",
              "      <td>True</td>\n",
              "      <td>True</td>\n",
              "      <td>False</td>\n",
              "      <td>11300</td>\n",
              "      <td>2018-01-01</td>\n",
              "    </tr>\n",
              "    <tr>\n",
              "      <th>1</th>\n",
              "      <td>BMW</td>\n",
              "      <td>M4</td>\n",
              "      <td>13929</td>\n",
              "      <td>317</td>\n",
              "      <td>2016-04-01</td>\n",
              "      <td>petrol</td>\n",
              "      <td>grey</td>\n",
              "      <td>convertible</td>\n",
              "      <td>True</td>\n",
              "      <td>True</td>\n",
              "      <td>False</td>\n",
              "      <td>False</td>\n",
              "      <td>False</td>\n",
              "      <td>True</td>\n",
              "      <td>True</td>\n",
              "      <td>True</td>\n",
              "      <td>69700</td>\n",
              "      <td>2018-02-01</td>\n",
              "    </tr>\n",
              "    <tr>\n",
              "      <th>2</th>\n",
              "      <td>BMW</td>\n",
              "      <td>320</td>\n",
              "      <td>183297</td>\n",
              "      <td>120</td>\n",
              "      <td>2012-04-01</td>\n",
              "      <td>diesel</td>\n",
              "      <td>white</td>\n",
              "      <td>convertible</td>\n",
              "      <td>False</td>\n",
              "      <td>False</td>\n",
              "      <td>False</td>\n",
              "      <td>False</td>\n",
              "      <td>True</td>\n",
              "      <td>False</td>\n",
              "      <td>True</td>\n",
              "      <td>False</td>\n",
              "      <td>10200</td>\n",
              "      <td>2018-02-01</td>\n",
              "    </tr>\n",
              "    <tr>\n",
              "      <th>3</th>\n",
              "      <td>BMW</td>\n",
              "      <td>420</td>\n",
              "      <td>128035</td>\n",
              "      <td>135</td>\n",
              "      <td>2014-07-01</td>\n",
              "      <td>diesel</td>\n",
              "      <td>red</td>\n",
              "      <td>convertible</td>\n",
              "      <td>True</td>\n",
              "      <td>True</td>\n",
              "      <td>False</td>\n",
              "      <td>False</td>\n",
              "      <td>True</td>\n",
              "      <td>True</td>\n",
              "      <td>True</td>\n",
              "      <td>True</td>\n",
              "      <td>25100</td>\n",
              "      <td>2018-02-01</td>\n",
              "    </tr>\n",
              "    <tr>\n",
              "      <th>4</th>\n",
              "      <td>BMW</td>\n",
              "      <td>425</td>\n",
              "      <td>97097</td>\n",
              "      <td>160</td>\n",
              "      <td>2014-12-01</td>\n",
              "      <td>diesel</td>\n",
              "      <td>silver</td>\n",
              "      <td>convertible</td>\n",
              "      <td>True</td>\n",
              "      <td>True</td>\n",
              "      <td>False</td>\n",
              "      <td>False</td>\n",
              "      <td>False</td>\n",
              "      <td>True</td>\n",
              "      <td>True</td>\n",
              "      <td>True</td>\n",
              "      <td>33400</td>\n",
              "      <td>2018-04-01</td>\n",
              "    </tr>\n",
              "  </tbody>\n",
              "</table>\n",
              "</div>\n",
              "      <button class=\"colab-df-convert\" onclick=\"convertToInteractive('df-fe610b2e-6044-47cf-a9e3-30edf6ab6bec')\"\n",
              "              title=\"Convert this dataframe to an interactive table.\"\n",
              "              style=\"display:none;\">\n",
              "        \n",
              "  <svg xmlns=\"http://www.w3.org/2000/svg\" height=\"24px\"viewBox=\"0 0 24 24\"\n",
              "       width=\"24px\">\n",
              "    <path d=\"M0 0h24v24H0V0z\" fill=\"none\"/>\n",
              "    <path d=\"M18.56 5.44l.94 2.06.94-2.06 2.06-.94-2.06-.94-.94-2.06-.94 2.06-2.06.94zm-11 1L8.5 8.5l.94-2.06 2.06-.94-2.06-.94L8.5 2.5l-.94 2.06-2.06.94zm10 10l.94 2.06.94-2.06 2.06-.94-2.06-.94-.94-2.06-.94 2.06-2.06.94z\"/><path d=\"M17.41 7.96l-1.37-1.37c-.4-.4-.92-.59-1.43-.59-.52 0-1.04.2-1.43.59L10.3 9.45l-7.72 7.72c-.78.78-.78 2.05 0 2.83L4 21.41c.39.39.9.59 1.41.59.51 0 1.02-.2 1.41-.59l7.78-7.78 2.81-2.81c.8-.78.8-2.07 0-2.86zM5.41 20L4 18.59l7.72-7.72 1.47 1.35L5.41 20z\"/>\n",
              "  </svg>\n",
              "      </button>\n",
              "      \n",
              "  <style>\n",
              "    .colab-df-container {\n",
              "      display:flex;\n",
              "      flex-wrap:wrap;\n",
              "      gap: 12px;\n",
              "    }\n",
              "\n",
              "    .colab-df-convert {\n",
              "      background-color: #E8F0FE;\n",
              "      border: none;\n",
              "      border-radius: 50%;\n",
              "      cursor: pointer;\n",
              "      display: none;\n",
              "      fill: #1967D2;\n",
              "      height: 32px;\n",
              "      padding: 0 0 0 0;\n",
              "      width: 32px;\n",
              "    }\n",
              "\n",
              "    .colab-df-convert:hover {\n",
              "      background-color: #E2EBFA;\n",
              "      box-shadow: 0px 1px 2px rgba(60, 64, 67, 0.3), 0px 1px 3px 1px rgba(60, 64, 67, 0.15);\n",
              "      fill: #174EA6;\n",
              "    }\n",
              "\n",
              "    [theme=dark] .colab-df-convert {\n",
              "      background-color: #3B4455;\n",
              "      fill: #D2E3FC;\n",
              "    }\n",
              "\n",
              "    [theme=dark] .colab-df-convert:hover {\n",
              "      background-color: #434B5C;\n",
              "      box-shadow: 0px 1px 3px 1px rgba(0, 0, 0, 0.15);\n",
              "      filter: drop-shadow(0px 1px 2px rgba(0, 0, 0, 0.3));\n",
              "      fill: #FFFFFF;\n",
              "    }\n",
              "  </style>\n",
              "\n",
              "      <script>\n",
              "        const buttonEl =\n",
              "          document.querySelector('#df-fe610b2e-6044-47cf-a9e3-30edf6ab6bec button.colab-df-convert');\n",
              "        buttonEl.style.display =\n",
              "          google.colab.kernel.accessAllowed ? 'block' : 'none';\n",
              "\n",
              "        async function convertToInteractive(key) {\n",
              "          const element = document.querySelector('#df-fe610b2e-6044-47cf-a9e3-30edf6ab6bec');\n",
              "          const dataTable =\n",
              "            await google.colab.kernel.invokeFunction('convertToInteractive',\n",
              "                                                     [key], {});\n",
              "          if (!dataTable) return;\n",
              "\n",
              "          const docLinkHtml = 'Like what you see? Visit the ' +\n",
              "            '<a target=\"_blank\" href=https://colab.research.google.com/notebooks/data_table.ipynb>data table notebook</a>'\n",
              "            + ' to learn more about interactive tables.';\n",
              "          element.innerHTML = '';\n",
              "          dataTable['output_type'] = 'display_data';\n",
              "          await google.colab.output.renderOutput(dataTable, element);\n",
              "          const docLink = document.createElement('div');\n",
              "          docLink.innerHTML = docLinkHtml;\n",
              "          element.appendChild(docLink);\n",
              "        }\n",
              "      </script>\n",
              "    </div>\n",
              "  </div>\n",
              "  "
            ],
            "text/plain": [
              "  maker_key model_key  mileage  ...  feature_8  price     sold_at\n",
              "0       BMW       118   140411  ...      False  11300  2018-01-01\n",
              "1       BMW        M4    13929  ...       True  69700  2018-02-01\n",
              "2       BMW       320   183297  ...      False  10200  2018-02-01\n",
              "3       BMW       420   128035  ...       True  25100  2018-02-01\n",
              "4       BMW       425    97097  ...       True  33400  2018-04-01\n",
              "\n",
              "[5 rows x 18 columns]"
            ]
          },
          "metadata": {},
          "execution_count": 19
        }
      ]
    },
    {
      "cell_type": "markdown",
      "metadata": {
        "id": "XjdNGze0dzez"
      },
      "source": [
        "Данная выборка представляет из себя данные по прадажам б/у автомобилей BMW. Выборка содержит наименование модели, пробег в милях, мощность двигателя, даты регистрации и продажи, типа топлива, цвет, типа кузова и набор опций (8 штук).\n",
        "\n",
        "Отобразим статистические данные, например соотнесем мощность двигателя и модель:"
      ]
    },
    {
      "cell_type": "code",
      "metadata": {
        "colab": {
          "base_uri": "https://localhost:8080/",
          "height": 1000
        },
        "id": "6vPzy8WB4oDC",
        "outputId": "f168a82c-6631-40a3-9717-3731eed8c2b1"
      },
      "source": [
        "model_key = data['model_key'].unique()\n",
        "engine_power = []\n",
        "for each in model_key:\n",
        "    x = data[data['model_key']==each]\n",
        "    engine_power.append(sum(x['engine_power']/len(x)))\n",
        "\n",
        "plt.figure(figsize=(10,20))\n",
        "sns.barplot(x=engine_power,y=model_key)\n",
        "plt.xlabel(\"Мощность\")\n",
        "plt.ylabel(\"Код модели\")\n",
        "plt.title(\"Мощность двигателя относительно модели\", color=\"green\")\n",
        "plt.show()"
      ],
      "execution_count": null,
      "outputs": [
        {
          "output_type": "display_data",
          "data": {
            "image/png": "[encoded data removed]",
            "text/plain": [
              "<Figure size 720x1440 with 1 Axes>"
            ]
          },
          "metadata": {
            "needs_background": "light"
          }
        }
      ]
    },
    {
      "cell_type": "markdown",
      "metadata": {
        "id": "HH_SkQ0TehW9"
      },
      "source": [
        "Посмотрим, автомобили с каким типом топлива статистически преобладают: "
      ]
    },
    {
      "cell_type": "code",
      "metadata": {
        "id": "Q7O72Qu_CR1Z",
        "colab": {
          "base_uri": "https://localhost:8080/",
          "height": 411
        },
        "outputId": "686cc6ff-da91-4491-ec1e-76aa36656ec5"
      },
      "source": [
        "plt.figure(figsize=(10,5))\n",
        "sns.countplot(data['fuel'])\n",
        "plt.title('Топливо',color=\"blue\")\n",
        "plt.xlabel(\"Тип топлива\")\n",
        "plt.ylabel(\"Число автомобилей\")\n",
        "plt.show()"
      ],
      "execution_count": null,
      "outputs": [
        {
          "output_type": "stream",
          "name": "stderr",
          "text": [
            "/usr/local/lib/python3.7/dist-packages/seaborn/_decorators.py:43: FutureWarning: Pass the following variable as a keyword arg: x. From version 0.12, the only valid positional argument will be `data`, and passing other arguments without an explicit keyword will result in an error or misinterpretation.\n",
            "  FutureWarning\n"
          ]
        },
        {
          "output_type": "display_data",
          "data": {
            "image/png": "[encoded data removed]",
            "text/plain": [
              "<Figure size 720x360 with 1 Axes>"
            ]
          },
          "metadata": {
            "needs_background": "light"
          }
        }
      ]
    },
    {
      "cell_type": "markdown",
      "metadata": {
        "id": "SHFJ1s22yKI3"
      },
      "source": [
        "Аналогично сделаем с типом кузова"
      ]
    },
    {
      "cell_type": "code",
      "metadata": {
        "colab": {
          "base_uri": "https://localhost:8080/",
          "height": 410
        },
        "id": "PnvcXyB8g8j1",
        "outputId": "7cbf2ce3-dcda-44bb-cc57-ce5507869640"
      },
      "source": [
        "plt.figure(figsize=(10,5))\n",
        "sns.countplot(data['car_type'])\n",
        "plt.title('Кузова',color=\"blue\")\n",
        "plt.xlabel(\"Тип кузова\")\n",
        "plt.ylabel(\"Число автомобилей\")\n",
        "plt.show()"
      ],
      "execution_count": null,
      "outputs": [
        {
          "output_type": "stream",
          "name": "stderr",
          "text": [
            "/usr/local/lib/python3.7/dist-packages/seaborn/_decorators.py:43: FutureWarning: Pass the following variable as a keyword arg: x. From version 0.12, the only valid positional argument will be `data`, and passing other arguments without an explicit keyword will result in an error or misinterpretation.\n",
            "  FutureWarning\n"
          ]
        },
        {
          "output_type": "display_data",
          "data": {
            "image/png": "[encoded data removed]",
            "text/plain": [
              "<Figure size 720x360 with 1 Axes>"
            ]
          },
          "metadata": {
            "needs_background": "light"
          }
        }
      ]
    },
    {
      "cell_type": "markdown",
      "metadata": {
        "id": "3WLM6fz_hMGH"
      },
      "source": [
        "Как мы видим, преобладают дизельные универсалы, седаны и \"джипы\", что позволяет сделать вывод, что анализируется европейский рынок.\n"
      ]
    },
    {
      "cell_type": "code",
      "metadata": {
        "id": "aeWIQqCL932a",
        "colab": {
          "base_uri": "https://localhost:8080/"
        },
        "outputId": "3e5de3ca-c3d2-43eb-ac18-5ba80f255099"
      },
      "source": [
        "# Картинку отрисуем с помощью библиотеки seaborn\n",
        "import seaborn as sns\n",
        "# Подсчитаем корреляцию и возьмем модуль от нее\n",
        "corr = data.corr().abs()\n",
        "sns.set(rc={'figure.figsize':(12, 14)})\n",
        "# Нарисуем картинку\n",
        "sns.heatmap(corr, \n",
        "            xticklabels=corr.columns.values,\n",
        "            yticklabels=corr.columns.values)"
      ],
      "execution_count": null,
      "outputs": [
        {
          "output_type": "execute_result",
          "data": {
            "text/plain": [
              "<matplotlib.axes._subplots.AxesSubplot at 0x7fbdfad8c250>"
            ]
          },
          "metadata": {},
          "execution_count": 23
        },
        {
          "output_type": "display_data",
          "data": {
            "image/png": "[encoded data removed]",
            "text/plain": [
              "<Figure size 864x1008 with 2 Axes>"
            ]
          },
          "metadata": {}
        }
      ]
    },
    {
      "cell_type": "markdown",
      "metadata": {
        "id": "gJH9p0dCdlli"
      },
      "source": [
        "Как мы видим, в данной выборке почти отсутствуют высококоррелирующие признаки, удалять переменные нет смысла. Но для упрощения можно убрать информацию о производителе (так как это все BMW) и код модели (его можно было бы заменить на числовое значение, но временно упростим задачу), так как нас интересует \"среднее\" значение.\n"
      ]
    },
    {
      "cell_type": "code",
      "metadata": {
        "colab": {
          "base_uri": "https://localhost:8080/"
        },
        "id": "d5vF8PEasUxW",
        "outputId": "76751496-dcca-4775-ac70-be2b8608e280"
      },
      "source": [
        "data.drop(['maker_key','model_key'],axis=1,inplace=True)\n",
        "data.head()"
      ],
      "execution_count": null,
      "outputs": [
        {
          "output_type": "execute_result",
          "data": {
            "text/html": [
              "\n",
              "  <div id=\"df-b930cfcc-7a60-43bb-bff8-090f6f5091e9\">\n",
              "    <div class=\"colab-df-container\">\n",
              "      <div>\n",
              "<style scoped>\n",
              "    .dataframe tbody tr th:only-of-type {\n",
              "        vertical-align: middle;\n",
              "    }\n",
              "\n",
              "    .dataframe tbody tr th {\n",
              "        vertical-align: top;\n",
              "    }\n",
              "\n",
              "    .dataframe thead th {\n",
              "        text-align: right;\n",
              "    }\n",
              "</style>\n",
              "<table border=\"1\" class=\"dataframe\">\n",
              "  <thead>\n",
              "    <tr style=\"text-align: right;\">\n",
              "      <th></th>\n",
              "      <th>mileage</th>\n",
              "      <th>engine_power</th>\n",
              "      <th>registration_date</th>\n",
              "      <th>fuel</th>\n",
              "      <th>paint_color</th>\n",
              "      <th>car_type</th>\n",
              "      <th>feature_1</th>\n",
              "      <th>feature_2</th>\n",
              "      <th>feature_3</th>\n",
              "      <th>feature_4</th>\n",
              "      <th>feature_5</th>\n",
              "      <th>feature_6</th>\n",
              "      <th>feature_7</th>\n",
              "      <th>feature_8</th>\n",
              "      <th>price</th>\n",
              "      <th>sold_at</th>\n",
              "    </tr>\n",
              "  </thead>\n",
              "  <tbody>\n",
              "    <tr>\n",
              "      <th>0</th>\n",
              "      <td>140411</td>\n",
              "      <td>100</td>\n",
              "      <td>2012-02-01</td>\n",
              "      <td>diesel</td>\n",
              "      <td>black</td>\n",
              "      <td>convertible</td>\n",
              "      <td>True</td>\n",
              "      <td>True</td>\n",
              "      <td>False</td>\n",
              "      <td>False</td>\n",
              "      <td>True</td>\n",
              "      <td>True</td>\n",
              "      <td>True</td>\n",
              "      <td>False</td>\n",
              "      <td>11300</td>\n",
              "      <td>2018-01-01</td>\n",
              "    </tr>\n",
              "    <tr>\n",
              "      <th>1</th>\n",
              "      <td>13929</td>\n",
              "      <td>317</td>\n",
              "      <td>2016-04-01</td>\n",
              "      <td>petrol</td>\n",
              "      <td>grey</td>\n",
              "      <td>convertible</td>\n",
              "      <td>True</td>\n",
              "      <td>True</td>\n",
              "      <td>False</td>\n",
              "      <td>False</td>\n",
              "      <td>False</td>\n",
              "      <td>True</td>\n",
              "      <td>True</td>\n",
              "      <td>True</td>\n",
              "      <td>69700</td>\n",
              "      <td>2018-02-01</td>\n",
              "    </tr>\n",
              "    <tr>\n",
              "      <th>2</th>\n",
              "      <td>183297</td>\n",
              "      <td>120</td>\n",
              "      <td>2012-04-01</td>\n",
              "      <td>diesel</td>\n",
              "      <td>white</td>\n",
              "      <td>convertible</td>\n",
              "      <td>False</td>\n",
              "      <td>False</td>\n",
              "      <td>False</td>\n",
              "      <td>False</td>\n",
              "      <td>True</td>\n",
              "      <td>False</td>\n",
              "      <td>True</td>\n",
              "      <td>False</td>\n",
              "      <td>10200</td>\n",
              "      <td>2018-02-01</td>\n",
              "    </tr>\n",
              "    <tr>\n",
              "      <th>3</th>\n",
              "      <td>128035</td>\n",
              "      <td>135</td>\n",
              "      <td>2014-07-01</td>\n",
              "      <td>diesel</td>\n",
              "      <td>red</td>\n",
              "      <td>convertible</td>\n",
              "      <td>True</td>\n",
              "      <td>True</td>\n",
              "      <td>False</td>\n",
              "      <td>False</td>\n",
              "      <td>True</td>\n",
              "      <td>True</td>\n",
              "      <td>True</td>\n",
              "      <td>True</td>\n",
              "      <td>25100</td>\n",
              "      <td>2018-02-01</td>\n",
              "    </tr>\n",
              "    <tr>\n",
              "      <th>4</th>\n",
              "      <td>97097</td>\n",
              "      <td>160</td>\n",
              "      <td>2014-12-01</td>\n",
              "      <td>diesel</td>\n",
              "      <td>silver</td>\n",
              "      <td>convertible</td>\n",
              "      <td>True</td>\n",
              "      <td>True</td>\n",
              "      <td>False</td>\n",
              "      <td>False</td>\n",
              "      <td>False</td>\n",
              "      <td>True</td>\n",
              "      <td>True</td>\n",
              "      <td>True</td>\n",
              "      <td>33400</td>\n",
              "      <td>2018-04-01</td>\n",
              "    </tr>\n",
              "  </tbody>\n",
              "</table>\n",
              "</div>\n",
              "      <button class=\"colab-df-convert\" onclick=\"convertToInteractive('df-b930cfcc-7a60-43bb-bff8-090f6f5091e9')\"\n",
              "              title=\"Convert this dataframe to an interactive table.\"\n",
              "              style=\"display:none;\">\n",
              "        \n",
              "  <svg xmlns=\"http://www.w3.org/2000/svg\" height=\"24px\"viewBox=\"0 0 24 24\"\n",
              "       width=\"24px\">\n",
              "    <path d=\"M0 0h24v24H0V0z\" fill=\"none\"/>\n",
              "    <path d=\"M18.56 5.44l.94 2.06.94-2.06 2.06-.94-2.06-.94-.94-2.06-.94 2.06-2.06.94zm-11 1L8.5 8.5l.94-2.06 2.06-.94-2.06-.94L8.5 2.5l-.94 2.06-2.06.94zm10 10l.94 2.06.94-2.06 2.06-.94-2.06-.94-.94-2.06-.94 2.06-2.06.94z\"/><path d=\"M17.41 7.96l-1.37-1.37c-.4-.4-.92-.59-1.43-.59-.52 0-1.04.2-1.43.59L10.3 9.45l-7.72 7.72c-.78.78-.78 2.05 0 2.83L4 21.41c.39.39.9.59 1.41.59.51 0 1.02-.2 1.41-.59l7.78-7.78 2.81-2.81c.8-.78.8-2.07 0-2.86zM5.41 20L4 18.59l7.72-7.72 1.47 1.35L5.41 20z\"/>\n",
              "  </svg>\n",
              "      </button>\n",
              "      \n",
              "  <style>\n",
              "    .colab-df-container {\n",
              "      display:flex;\n",
              "      flex-wrap:wrap;\n",
              "      gap: 12px;\n",
              "    }\n",
              "\n",
              "    .colab-df-convert {\n",
              "      background-color: #E8F0FE;\n",
              "      border: none;\n",
              "      border-radius: 50%;\n",
              "      cursor: pointer;\n",
              "      display: none;\n",
              "      fill: #1967D2;\n",
              "      height: 32px;\n",
              "      padding: 0 0 0 0;\n",
              "      width: 32px;\n",
              "    }\n",
              "\n",
              "    .colab-df-convert:hover {\n",
              "      background-color: #E2EBFA;\n",
              "      box-shadow: 0px 1px 2px rgba(60, 64, 67, 0.3), 0px 1px 3px 1px rgba(60, 64, 67, 0.15);\n",
              "      fill: #174EA6;\n",
              "    }\n",
              "\n",
              "    [theme=dark] .colab-df-convert {\n",
              "      background-color: #3B4455;\n",
              "      fill: #D2E3FC;\n",
              "    }\n",
              "\n",
              "    [theme=dark] .colab-df-convert:hover {\n",
              "      background-color: #434B5C;\n",
              "      box-shadow: 0px 1px 3px 1px rgba(0, 0, 0, 0.15);\n",
              "      filter: drop-shadow(0px 1px 2px rgba(0, 0, 0, 0.3));\n",
              "      fill: #FFFFFF;\n",
              "    }\n",
              "  </style>\n",
              "\n",
              "      <script>\n",
              "        const buttonEl =\n",
              "          document.querySelector('#df-b930cfcc-7a60-43bb-bff8-090f6f5091e9 button.colab-df-convert');\n",
              "        buttonEl.style.display =\n",
              "          google.colab.kernel.accessAllowed ? 'block' : 'none';\n",
              "\n",
              "        async function convertToInteractive(key) {\n",
              "          const element = document.querySelector('#df-b930cfcc-7a60-43bb-bff8-090f6f5091e9');\n",
              "          const dataTable =\n",
              "            await google.colab.kernel.invokeFunction('convertToInteractive',\n",
              "                                                     [key], {});\n",
              "          if (!dataTable) return;\n",
              "\n",
              "          const docLinkHtml = 'Like what you see? Visit the ' +\n",
              "            '<a target=\"_blank\" href=https://colab.research.google.com/notebooks/data_table.ipynb>data table notebook</a>'\n",
              "            + ' to learn more about interactive tables.';\n",
              "          element.innerHTML = '';\n",
              "          dataTable['output_type'] = 'display_data';\n",
              "          await google.colab.output.renderOutput(dataTable, element);\n",
              "          const docLink = document.createElement('div');\n",
              "          docLink.innerHTML = docLinkHtml;\n",
              "          element.appendChild(docLink);\n",
              "        }\n",
              "      </script>\n",
              "    </div>\n",
              "  </div>\n",
              "  "
            ],
            "text/plain": [
              "   mileage  engine_power registration_date  ... feature_8  price     sold_at\n",
              "0   140411           100        2012-02-01  ...     False  11300  2018-01-01\n",
              "1    13929           317        2016-04-01  ...      True  69700  2018-02-01\n",
              "2   183297           120        2012-04-01  ...     False  10200  2018-02-01\n",
              "3   128035           135        2014-07-01  ...      True  25100  2018-02-01\n",
              "4    97097           160        2014-12-01  ...      True  33400  2018-04-01\n",
              "\n",
              "[5 rows x 16 columns]"
            ]
          },
          "metadata": {},
          "execution_count": 24
        }
      ]
    },
    {
      "cell_type": "markdown",
      "metadata": {
        "id": "0Aq1bdmZctc0"
      },
      "source": [
        "Дата регистрации важна с точки зрения определения возраста автомобиля. Мы должны довести эту информацию до статуса, который она может использовать. Условно разделим их на 3. Я дал каждому интервалу номер, так что я могу использовать его в своей модели. "
      ]
    },
    {
      "cell_type": "code",
      "metadata": {
        "id": "5zUO7GSEdpVX"
      },
      "source": [
        "data['RegistrationDate'] = [1 if(i>=\"1990-03-01\" and i<\"2000-01-01\") else 2 if(i>=\"2000-01-01\" and i<\"2010-01-01\")\n",
        "                            else 3 for i in data['registration_date']]"
      ],
      "execution_count": null,
      "outputs": []
    },
    {
      "cell_type": "markdown",
      "metadata": {
        "id": "szMemTE7fXsr"
      },
      "source": [
        "Похожим образом поступим с датой продажи."
      ]
    },
    {
      "cell_type": "code",
      "metadata": {
        "id": "bSe4_uAkfceO"
      },
      "source": [
        "data['SoldAt'] =[1 if(i==\"2018-01-01\") else 2 if(i==\"2018-02-01\") else 3 if(i==\"2018-03-01\")\n",
        "                 else 4 if(i==\"2018-04-01\") else 5 if(i==\"2018-05-01\") else 6 if(i==\"2018-06-01\")\n",
        "                 else 7 if(i==\"2018-07-01\") else 8 if(i==\"2018-08-01\")\n",
        "                 else 9 if(i==\"2018-09-01\") else 0 for i in data['sold_at']]"
      ],
      "execution_count": null,
      "outputs": []
    },
    {
      "cell_type": "markdown",
      "metadata": {
        "id": "xMhX1L-ieU1D"
      },
      "source": [
        "Покупая автомобиль, мы обращаем внимание на тип топлива. Мы должны преобразовать эту информацию, как и впредыдущем случае, чтобы использовать его в своей модели. "
      ]
    },
    {
      "cell_type": "code",
      "metadata": {
        "id": "0bRVdFuMegGg"
      },
      "source": [
        "data['fuel'] = data['fuel'].replace(\"diesel\",1)\n",
        "data['fuel'] = data['fuel'].replace(\"petrol\",2)\n",
        "data['fuel'] = data['fuel'].replace(\"hybrid_petrol\",3)\n",
        "data['fuel'] = data['fuel'].replace(\"electro\",4)"
      ],
      "execution_count": null,
      "outputs": []
    },
    {
      "cell_type": "markdown",
      "metadata": {
        "id": "91l2ZxioerNn"
      },
      "source": [
        "Аналогично поступим с типом кузова и его цветом."
      ]
    },
    {
      "cell_type": "code",
      "metadata": {
        "id": "LhtEzYQIeu0Q"
      },
      "source": [
        "data['paint_color'] = data['paint_color'].replace(\"black\",1)\n",
        "data['paint_color'] = data['paint_color'].replace(\"grey\",2)\n",
        "data['paint_color'] = data['paint_color'].replace(\"white\",3)\n",
        "data['paint_color'] = data['paint_color'].replace(\"red\",4)\n",
        "data['paint_color'] = data['paint_color'].replace(\"silver\",5)\n",
        "data['paint_color'] = data['paint_color'].replace(\"blue\",6)\n",
        "data['paint_color'] = data['paint_color'].replace(\"orange\",7)\n",
        "data['paint_color'] = data['paint_color'].replace(\"beige\",8)\n",
        "data['paint_color'] = data['paint_color'].replace(\"brown\",9)\n",
        "data['paint_color'] = data['paint_color'].replace(\"green\",10)\n",
        "data['car_type'].unique()\n",
        "data['car_type'] = data['car_type'].replace(\"convertible\",1)\n",
        "data['car_type'] = data['car_type'].replace(\"coupe\",2)\n",
        "data['car_type'] = data['car_type'].replace(\"estate\",3)\n",
        "data['car_type'] = data['car_type'].replace(\"hatchback\",4)\n",
        "data['car_type'] = data['car_type'].replace(\"sedan\",5)\n",
        "data['car_type'] = data['car_type'].replace(\"subcompact\",6)\n",
        "data['car_type'] = data['car_type'].replace(\"suv\",7)\n",
        "data['car_type'] = data['car_type'].replace(\"van\",8)"
      ],
      "execution_count": null,
      "outputs": []
    },
    {
      "cell_type": "markdown",
      "metadata": {
        "id": "HZNBDAV0fBu_"
      },
      "source": [
        "Преобразуем значение наличия опции из булева в числовое."
      ]
    },
    {
      "cell_type": "code",
      "metadata": {
        "id": "txb8Ke7ze9FI"
      },
      "source": [
        "data['feature_1'] = data['feature_1'].replace(True,1)\n",
        "data['feature_1'] = data['feature_1'].replace(False,0)\n",
        "data['feature_2'] = data['feature_2'].replace(True,1)\n",
        "data['feature_2'] = data['feature_2'].replace(False,0)\n",
        "data['feature_3'] = data['feature_3'].replace(True,1)\n",
        "data['feature_3'] = data['feature_3'].replace(False,0)\n",
        "data['feature_4'] = data['feature_4'].replace(True,1)\n",
        "data['feature_4'] = data['feature_4'].replace(False,0)\n",
        "data['feature_5'] = data['feature_5'].replace(True,1)\n",
        "data['feature_5'] = data['feature_5'].replace(False,0)\n",
        "data['feature_6'] = data['feature_6'].replace(True,1)\n",
        "data['feature_6'] = data['feature_6'].replace(False,0)\n",
        "data['feature_7'] = data['feature_7'].replace(True,1)\n",
        "data['feature_7'] = data['feature_7'].replace(False,0)\n",
        "data['feature_8'] = data['feature_8'].replace(True,1)\n",
        "data['feature_8'] = data['feature_8'].replace(False,0)"
      ],
      "execution_count": null,
      "outputs": []
    },
    {
      "cell_type": "markdown",
      "metadata": {
        "id": "w_HS0UvrfsE0"
      },
      "source": [
        "Отобразим получившуюся очищеную выборку, предварительно удалив лишние параметры:"
      ]
    },
    {
      "cell_type": "code",
      "metadata": {
        "colab": {
          "base_uri": "https://localhost:8080/",
          "height": 206
        },
        "id": "iNHvENZOfxXI",
        "outputId": "d7cf17ef-22ae-45b6-f0db-2bd83c395b58"
      },
      "source": [
        "data.drop(['registration_date','sold_at'],axis=1,inplace=True)\n",
        "data.head()"
      ],
      "execution_count": null,
      "outputs": [
        {
          "output_type": "execute_result",
          "data": {
            "text/html": [
              "\n",
              "  <div id=\"df-265b2270-9703-4a13-b3a9-b6b03d50f7fe\">\n",
              "    <div class=\"colab-df-container\">\n",
              "      <div>\n",
              "<style scoped>\n",
              "    .dataframe tbody tr th:only-of-type {\n",
              "        vertical-align: middle;\n",
              "    }\n",
              "\n",
              "    .dataframe tbody tr th {\n",
              "        vertical-align: top;\n",
              "    }\n",
              "\n",
              "    .dataframe thead th {\n",
              "        text-align: right;\n",
              "    }\n",
              "</style>\n",
              "<table border=\"1\" class=\"dataframe\">\n",
              "  <thead>\n",
              "    <tr style=\"text-align: right;\">\n",
              "      <th></th>\n",
              "      <th>mileage</th>\n",
              "      <th>engine_power</th>\n",
              "      <th>fuel</th>\n",
              "      <th>paint_color</th>\n",
              "      <th>car_type</th>\n",
              "      <th>feature_1</th>\n",
              "      <th>feature_2</th>\n",
              "      <th>feature_3</th>\n",
              "      <th>feature_4</th>\n",
              "      <th>feature_5</th>\n",
              "      <th>feature_6</th>\n",
              "      <th>feature_7</th>\n",
              "      <th>feature_8</th>\n",
              "      <th>price</th>\n",
              "      <th>RegistrationDate</th>\n",
              "      <th>SoldAt</th>\n",
              "    </tr>\n",
              "  </thead>\n",
              "  <tbody>\n",
              "    <tr>\n",
              "      <th>0</th>\n",
              "      <td>140411</td>\n",
              "      <td>100</td>\n",
              "      <td>1</td>\n",
              "      <td>1</td>\n",
              "      <td>1</td>\n",
              "      <td>1.0</td>\n",
              "      <td>1.0</td>\n",
              "      <td>0.0</td>\n",
              "      <td>0.0</td>\n",
              "      <td>1.0</td>\n",
              "      <td>1.0</td>\n",
              "      <td>1.0</td>\n",
              "      <td>0.0</td>\n",
              "      <td>11300</td>\n",
              "      <td>3</td>\n",
              "      <td>1</td>\n",
              "    </tr>\n",
              "    <tr>\n",
              "      <th>1</th>\n",
              "      <td>13929</td>\n",
              "      <td>317</td>\n",
              "      <td>2</td>\n",
              "      <td>2</td>\n",
              "      <td>1</td>\n",
              "      <td>1.0</td>\n",
              "      <td>1.0</td>\n",
              "      <td>0.0</td>\n",
              "      <td>0.0</td>\n",
              "      <td>0.0</td>\n",
              "      <td>1.0</td>\n",
              "      <td>1.0</td>\n",
              "      <td>1.0</td>\n",
              "      <td>69700</td>\n",
              "      <td>3</td>\n",
              "      <td>2</td>\n",
              "    </tr>\n",
              "    <tr>\n",
              "      <th>2</th>\n",
              "      <td>183297</td>\n",
              "      <td>120</td>\n",
              "      <td>1</td>\n",
              "      <td>3</td>\n",
              "      <td>1</td>\n",
              "      <td>0.0</td>\n",
              "      <td>0.0</td>\n",
              "      <td>0.0</td>\n",
              "      <td>0.0</td>\n",
              "      <td>1.0</td>\n",
              "      <td>0.0</td>\n",
              "      <td>1.0</td>\n",
              "      <td>0.0</td>\n",
              "      <td>10200</td>\n",
              "      <td>3</td>\n",
              "      <td>2</td>\n",
              "    </tr>\n",
              "    <tr>\n",
              "      <th>3</th>\n",
              "      <td>128035</td>\n",
              "      <td>135</td>\n",
              "      <td>1</td>\n",
              "      <td>4</td>\n",
              "      <td>1</td>\n",
              "      <td>1.0</td>\n",
              "      <td>1.0</td>\n",
              "      <td>0.0</td>\n",
              "      <td>0.0</td>\n",
              "      <td>1.0</td>\n",
              "      <td>1.0</td>\n",
              "      <td>1.0</td>\n",
              "      <td>1.0</td>\n",
              "      <td>25100</td>\n",
              "      <td>3</td>\n",
              "      <td>2</td>\n",
              "    </tr>\n",
              "    <tr>\n",
              "      <th>4</th>\n",
              "      <td>97097</td>\n",
              "      <td>160</td>\n",
              "      <td>1</td>\n",
              "      <td>5</td>\n",
              "      <td>1</td>\n",
              "      <td>1.0</td>\n",
              "      <td>1.0</td>\n",
              "      <td>0.0</td>\n",
              "      <td>0.0</td>\n",
              "      <td>0.0</td>\n",
              "      <td>1.0</td>\n",
              "      <td>1.0</td>\n",
              "      <td>1.0</td>\n",
              "      <td>33400</td>\n",
              "      <td>3</td>\n",
              "      <td>4</td>\n",
              "    </tr>\n",
              "  </tbody>\n",
              "</table>\n",
              "</div>\n",
              "      <button class=\"colab-df-convert\" onclick=\"convertToInteractive('df-265b2270-9703-4a13-b3a9-b6b03d50f7fe')\"\n",
              "              title=\"Convert this dataframe to an interactive table.\"\n",
              "              style=\"display:none;\">\n",
              "        \n",
              "  <svg xmlns=\"http://www.w3.org/2000/svg\" height=\"24px\"viewBox=\"0 0 24 24\"\n",
              "       width=\"24px\">\n",
              "    <path d=\"M0 0h24v24H0V0z\" fill=\"none\"/>\n",
              "    <path d=\"M18.56 5.44l.94 2.06.94-2.06 2.06-.94-2.06-.94-.94-2.06-.94 2.06-2.06.94zm-11 1L8.5 8.5l.94-2.06 2.06-.94-2.06-.94L8.5 2.5l-.94 2.06-2.06.94zm10 10l.94 2.06.94-2.06 2.06-.94-2.06-.94-.94-2.06-.94 2.06-2.06.94z\"/><path d=\"M17.41 7.96l-1.37-1.37c-.4-.4-.92-.59-1.43-.59-.52 0-1.04.2-1.43.59L10.3 9.45l-7.72 7.72c-.78.78-.78 2.05 0 2.83L4 21.41c.39.39.9.59 1.41.59.51 0 1.02-.2 1.41-.59l7.78-7.78 2.81-2.81c.8-.78.8-2.07 0-2.86zM5.41 20L4 18.59l7.72-7.72 1.47 1.35L5.41 20z\"/>\n",
              "  </svg>\n",
              "      </button>\n",
              "      \n",
              "  <style>\n",
              "    .colab-df-container {\n",
              "      display:flex;\n",
              "      flex-wrap:wrap;\n",
              "      gap: 12px;\n",
              "    }\n",
              "\n",
              "    .colab-df-convert {\n",
              "      background-color: #E8F0FE;\n",
              "      border: none;\n",
              "      border-radius: 50%;\n",
              "      cursor: pointer;\n",
              "      display: none;\n",
              "      fill: #1967D2;\n",
              "      height: 32px;\n",
              "      padding: 0 0 0 0;\n",
              "      width: 32px;\n",
              "    }\n",
              "\n",
              "    .colab-df-convert:hover {\n",
              "      background-color: #E2EBFA;\n",
              "      box-shadow: 0px 1px 2px rgba(60, 64, 67, 0.3), 0px 1px 3px 1px rgba(60, 64, 67, 0.15);\n",
              "      fill: #174EA6;\n",
              "    }\n",
              "\n",
              "    [theme=dark] .colab-df-convert {\n",
              "      background-color: #3B4455;\n",
              "      fill: #D2E3FC;\n",
              "    }\n",
              "\n",
              "    [theme=dark] .colab-df-convert:hover {\n",
              "      background-color: #434B5C;\n",
              "      box-shadow: 0px 1px 3px 1px rgba(0, 0, 0, 0.15);\n",
              "      filter: drop-shadow(0px 1px 2px rgba(0, 0, 0, 0.3));\n",
              "      fill: #FFFFFF;\n",
              "    }\n",
              "  </style>\n",
              "\n",
              "      <script>\n",
              "        const buttonEl =\n",
              "          document.querySelector('#df-265b2270-9703-4a13-b3a9-b6b03d50f7fe button.colab-df-convert');\n",
              "        buttonEl.style.display =\n",
              "          google.colab.kernel.accessAllowed ? 'block' : 'none';\n",
              "\n",
              "        async function convertToInteractive(key) {\n",
              "          const element = document.querySelector('#df-265b2270-9703-4a13-b3a9-b6b03d50f7fe');\n",
              "          const dataTable =\n",
              "            await google.colab.kernel.invokeFunction('convertToInteractive',\n",
              "                                                     [key], {});\n",
              "          if (!dataTable) return;\n",
              "\n",
              "          const docLinkHtml = 'Like what you see? Visit the ' +\n",
              "            '<a target=\"_blank\" href=https://colab.research.google.com/notebooks/data_table.ipynb>data table notebook</a>'\n",
              "            + ' to learn more about interactive tables.';\n",
              "          element.innerHTML = '';\n",
              "          dataTable['output_type'] = 'display_data';\n",
              "          await google.colab.output.renderOutput(dataTable, element);\n",
              "          const docLink = document.createElement('div');\n",
              "          docLink.innerHTML = docLinkHtml;\n",
              "          element.appendChild(docLink);\n",
              "        }\n",
              "      </script>\n",
              "    </div>\n",
              "  </div>\n",
              "  "
            ],
            "text/plain": [
              "   mileage  engine_power  fuel  ...  price  RegistrationDate  SoldAt\n",
              "0   140411           100     1  ...  11300                 3       1\n",
              "1    13929           317     2  ...  69700                 3       2\n",
              "2   183297           120     1  ...  10200                 3       2\n",
              "3   128035           135     1  ...  25100                 3       2\n",
              "4    97097           160     1  ...  33400                 3       4\n",
              "\n",
              "[5 rows x 16 columns]"
            ]
          },
          "metadata": {},
          "execution_count": 30
        }
      ]
    },
    {
      "cell_type": "markdown",
      "metadata": {
        "id": "Ixu7OdelI3Zs"
      },
      "source": [
        "# Machine learning"
      ]
    },
    {
      "cell_type": "markdown",
      "metadata": {
        "id": "X69620zfJiAm"
      },
      "source": [
        "Выделим в нашей выборке целевую переменную, а также разделим ее на тренировочную и тестовую."
      ]
    },
    {
      "cell_type": "code",
      "metadata": {
        "id": "IbIkz8gB934K"
      },
      "source": [
        "X = data.drop(['feature_1'], axis=1)\n",
        "y = data['feature_1']\n",
        "\n",
        "from sklearn.model_selection import train_test_split\n",
        "X_train, X_test, y_train, y_test = train_test_split(X, y)"
      ],
      "execution_count": null,
      "outputs": []
    },
    {
      "cell_type": "markdown",
      "metadata": {
        "id": "6LC2nvcAJkXx"
      },
      "source": [
        "Проведём классификацию с помощью метода ближайших соседей."
      ]
    },
    {
      "cell_type": "code",
      "metadata": {
        "id": "yuxbUDgM934N",
        "colab": {
          "base_uri": "https://localhost:8080/"
        },
        "outputId": "478552a7-8743-4712-ec1b-5dcf208c87a5"
      },
      "source": [
        "# импортируем класс классификатора по ближайшим соседям\n",
        "from sklearn.neighbors import KNeighborsClassifier\n",
        "print(X_train)\n",
        "# создадим наш классификатор. Гиперпараметр у этого алгоритма один - количество соседей.\n",
        "clf = KNeighborsClassifier(n_neighbors=5)\n",
        "# обучим классификатор на тренировочной выборке\n",
        "clf.fit(X_train, y_train)\n",
        "# подсчитаем долю верных ответов алгоритма на тестовой выборке.\n",
        "# Есть и другие метрики качества - о них будет рассказано на следующей лабе\n",
        "clf.score(X_test, y_test)"
      ],
      "execution_count": null,
      "outputs": [
        {
          "output_type": "stream",
          "name": "stdout",
          "text": [
            "      mileage  engine_power  fuel  ...  price  RegistrationDate  SoldAt\n",
            "2289   193477           100     1  ...  12900                 3       7\n",
            "4119   117507           190     1  ...  34500                 3       4\n",
            "3285   177762           135     1  ...  18400                 3       6\n",
            "3692   269389            90     1  ...   3300                 2       4\n",
            "3723   186916           100     1  ...   4000                 2       5\n",
            "...       ...           ...   ...  ...    ...               ...     ...\n",
            "2276    42240           100     1  ...  25100                 3       6\n",
            "1153   229437           100     1  ...   6000                 2       5\n",
            "4786   122588           190     1  ...  42800                 3       9\n",
            "3408   365452           120     1  ...   3400                 2       7\n",
            "1661   169643           155     1  ...  21500                 3       8\n",
            "\n",
            "[3632 rows x 15 columns]\n"
          ]
        },
        {
          "output_type": "execute_result",
          "data": {
            "text/plain": [
              "0.6498761354252683"
            ]
          },
          "metadata": {},
          "execution_count": 32
        }
      ]
    },
    {
      "cell_type": "markdown",
      "metadata": {
        "id": "CkrwwH8aJxD5"
      },
      "source": [
        "Рассмотрим влияние гиперпараметра на качество классификации."
      ]
    },
    {
      "cell_type": "code",
      "metadata": {
        "id": "TkEdENqr934Q",
        "colab": {
          "base_uri": "https://localhost:8080/"
        },
        "outputId": "fc4f0fa8-6d48-413b-e8dd-068fbb701dbb"
      },
      "source": [
        "# Создадим пустой словарь. Будем добавлять в него значения наших \"скоров\". Ключами будет значение гиперпараметра,\n",
        "# значениями - качество работы. Рассмотрим отдельно качество на тренировочной выборке и на тестовой.\n",
        "train_scores = {}\n",
        "test_scores = {}\n",
        "\n",
        "# для n в диапазоне от 1 до 40 включительно\n",
        "for n in range(1, 41):\n",
        "    clf = KNeighborsClassifier(n_neighbors=n)\n",
        "    clf.fit(X_train, y_train)\n",
        "    # значение качества на текущей итерации:\n",
        "    current_train_score = clf.score(X_train, y_train)\n",
        "    current_test_score = clf.score(X_test, y_test)\n",
        "    # запишем его в наши словари\n",
        "    train_scores[n] = current_train_score\n",
        "    test_scores[n] = current_test_score\n",
        "\n",
        "# нарисуем графики\n",
        "plt.plot(list(train_scores.keys()), list(train_scores.values()), label='Обучающая выборка')\n",
        "plt.plot(list(test_scores.keys()), list(test_scores.values()), label='Тестовая выборка')\n",
        "plt.xlabel('Количество соседей')\n",
        "plt.ylabel('Доля верных ответов')\n",
        "plt.legend()\n",
        "plt.show()"
      ],
      "execution_count": null,
      "outputs": [
        {
          "output_type": "display_data",
          "data": {
            "image/png": "[encoded data removed]",
            "text/plain": [
              "<Figure size 864x1008 with 1 Axes>"
            ]
          },
          "metadata": {}
        }
      ]
    }
  ]
}